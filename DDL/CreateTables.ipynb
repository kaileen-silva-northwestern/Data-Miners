{
 "cells": [
  {
   "cell_type": "code",
   "execution_count": 1,
   "id": "2c49b88b",
   "metadata": {},
   "outputs": [],
   "source": [
    "import pandas as pd\n",
    "import sqlalchemy as sa\n",
    "from sqlalchemy import Table, MetaData, Column, Integer, create_engine\n",
    "import urllib\n",
    "import pyodbc "
   ]
  },
  {
   "cell_type": "markdown",
   "id": "9a3aa22c",
   "metadata": {},
   "source": [
    "### Build and Establish Connection to DB"
   ]
  },
  {
   "cell_type": "code",
   "execution_count": 18,
   "id": "c9d1a68e",
   "metadata": {},
   "outputs": [],
   "source": [
    "#server = ''\n",
    "#database = ''\n",
    "#username = ''\n",
    "#password = ''\n",
    "\n",
    "params = urllib.parse.quote_plus('DRIVER={ODBC Driver 17 for SQL Server};SERVER='+server+';DATABASE='+database+';UID='+username+';PWD='+ password)\n",
    "\n",
    "engine = sa.create_engine(\"mssql+pyodbc:///?odbc_connect=%s\" % params)"
   ]
  },
  {
   "cell_type": "code",
   "execution_count": 19,
   "id": "83621b41",
   "metadata": {},
   "outputs": [],
   "source": [
    "connection = engine.connect()"
   ]
  },
  {
   "cell_type": "markdown",
   "id": "46f0f98f",
   "metadata": {},
   "source": [
    "### Read DB Contents"
   ]
  },
  {
   "cell_type": "code",
   "execution_count": 27,
   "id": "eb5e21c8",
   "metadata": {},
   "outputs": [
    {
     "data": {
      "text/html": [
       "<div>\n",
       "<style scoped>\n",
       "    .dataframe tbody tr th:only-of-type {\n",
       "        vertical-align: middle;\n",
       "    }\n",
       "\n",
       "    .dataframe tbody tr th {\n",
       "        vertical-align: top;\n",
       "    }\n",
       "\n",
       "    .dataframe thead th {\n",
       "        text-align: right;\n",
       "    }\n",
       "</style>\n",
       "<table border=\"1\" class=\"dataframe\">\n",
       "  <thead>\n",
       "    <tr style=\"text-align: right;\">\n",
       "      <th></th>\n",
       "      <th>schema_name</th>\n",
       "      <th>table_name</th>\n",
       "      <th>create_date</th>\n",
       "      <th>modify_date</th>\n",
       "    </tr>\n",
       "  </thead>\n",
       "  <tbody>\n",
       "    <tr>\n",
       "      <th>0</th>\n",
       "      <td>dbo</td>\n",
       "      <td>BuildVersion</td>\n",
       "      <td>2022-05-15 20:04:00.113</td>\n",
       "      <td>2022-05-15 20:04:01.767</td>\n",
       "    </tr>\n",
       "    <tr>\n",
       "      <th>1</th>\n",
       "      <td>dbo</td>\n",
       "      <td>ErrorLog</td>\n",
       "      <td>2022-05-15 20:04:00.113</td>\n",
       "      <td>2022-05-15 20:04:01.767</td>\n",
       "    </tr>\n",
       "    <tr>\n",
       "      <th>2</th>\n",
       "      <td>dbo</td>\n",
       "      <td>Rel_Building</td>\n",
       "      <td>2022-05-17 22:49:05.513</td>\n",
       "      <td>2022-05-19 22:05:23.507</td>\n",
       "    </tr>\n",
       "    <tr>\n",
       "      <th>3</th>\n",
       "      <td>dbo</td>\n",
       "      <td>Rel_BuyoutAgreements</td>\n",
       "      <td>2022-05-17 22:47:28.627</td>\n",
       "      <td>2022-05-19 22:05:23.503</td>\n",
       "    </tr>\n",
       "    <tr>\n",
       "      <th>4</th>\n",
       "      <td>dbo</td>\n",
       "      <td>Rel_Demographics</td>\n",
       "      <td>2022-05-17 22:34:37.987</td>\n",
       "      <td>2022-05-19 22:21:30.853</td>\n",
       "    </tr>\n",
       "    <tr>\n",
       "      <th>5</th>\n",
       "      <td>dbo</td>\n",
       "      <td>Rel_Eviction_Notices</td>\n",
       "      <td>2022-05-17 21:59:47.223</td>\n",
       "      <td>2022-05-17 21:59:47.223</td>\n",
       "    </tr>\n",
       "    <tr>\n",
       "      <th>6</th>\n",
       "      <td>dbo</td>\n",
       "      <td>Rel_Location</td>\n",
       "      <td>2022-05-17 22:25:35.210</td>\n",
       "      <td>2022-05-19 22:21:30.853</td>\n",
       "    </tr>\n",
       "    <tr>\n",
       "      <th>7</th>\n",
       "      <td>dbo</td>\n",
       "      <td>SF_Addresses_With_Units_Raw</td>\n",
       "      <td>2022-05-19 01:46:22.717</td>\n",
       "      <td>2022-05-19 01:46:22.793</td>\n",
       "    </tr>\n",
       "    <tr>\n",
       "      <th>8</th>\n",
       "      <td>dbo</td>\n",
       "      <td>SF_Buyout_Agreements_Raw</td>\n",
       "      <td>2022-05-16 00:27:00.917</td>\n",
       "      <td>2022-05-16 00:27:00.943</td>\n",
       "    </tr>\n",
       "    <tr>\n",
       "      <th>9</th>\n",
       "      <td>dbo</td>\n",
       "      <td>SF_Eviction_Notices_Raw</td>\n",
       "      <td>2022-05-16 00:41:20.143</td>\n",
       "      <td>2022-05-16 00:41:20.190</td>\n",
       "    </tr>\n",
       "    <tr>\n",
       "      <th>10</th>\n",
       "      <td>dbo</td>\n",
       "      <td>Zip_Atlas_Median_Age_Raw</td>\n",
       "      <td>2022-05-16 00:26:38.500</td>\n",
       "      <td>2022-05-16 00:26:38.530</td>\n",
       "    </tr>\n",
       "    <tr>\n",
       "      <th>11</th>\n",
       "      <td>dbo</td>\n",
       "      <td>Zip_Atlas_Median_Household_Income_Raw</td>\n",
       "      <td>2022-05-16 00:26:44.743</td>\n",
       "      <td>2022-05-16 00:26:44.773</td>\n",
       "    </tr>\n",
       "    <tr>\n",
       "      <th>12</th>\n",
       "      <td>dbo</td>\n",
       "      <td>Zip_Atlas_Population_Density_Raw</td>\n",
       "      <td>2022-05-16 00:26:41.683</td>\n",
       "      <td>2022-05-16 00:26:41.693</td>\n",
       "    </tr>\n",
       "  </tbody>\n",
       "</table>\n",
       "</div>"
      ],
      "text/plain": [
       "   schema_name                             table_name             create_date  \\\n",
       "0          dbo                           BuildVersion 2022-05-15 20:04:00.113   \n",
       "1          dbo                               ErrorLog 2022-05-15 20:04:00.113   \n",
       "2          dbo                           Rel_Building 2022-05-17 22:49:05.513   \n",
       "3          dbo                   Rel_BuyoutAgreements 2022-05-17 22:47:28.627   \n",
       "4          dbo                       Rel_Demographics 2022-05-17 22:34:37.987   \n",
       "5          dbo                   Rel_Eviction_Notices 2022-05-17 21:59:47.223   \n",
       "6          dbo                           Rel_Location 2022-05-17 22:25:35.210   \n",
       "7          dbo            SF_Addresses_With_Units_Raw 2022-05-19 01:46:22.717   \n",
       "8          dbo               SF_Buyout_Agreements_Raw 2022-05-16 00:27:00.917   \n",
       "9          dbo                SF_Eviction_Notices_Raw 2022-05-16 00:41:20.143   \n",
       "10         dbo               Zip_Atlas_Median_Age_Raw 2022-05-16 00:26:38.500   \n",
       "11         dbo  Zip_Atlas_Median_Household_Income_Raw 2022-05-16 00:26:44.743   \n",
       "12         dbo       Zip_Atlas_Population_Density_Raw 2022-05-16 00:26:41.683   \n",
       "\n",
       "               modify_date  \n",
       "0  2022-05-15 20:04:01.767  \n",
       "1  2022-05-15 20:04:01.767  \n",
       "2  2022-05-19 22:05:23.507  \n",
       "3  2022-05-19 22:05:23.503  \n",
       "4  2022-05-19 22:21:30.853  \n",
       "5  2022-05-17 21:59:47.223  \n",
       "6  2022-05-19 22:21:30.853  \n",
       "7  2022-05-19 01:46:22.793  \n",
       "8  2022-05-16 00:27:00.943  \n",
       "9  2022-05-16 00:41:20.190  \n",
       "10 2022-05-16 00:26:38.530  \n",
       "11 2022-05-16 00:26:44.773  \n",
       "12 2022-05-16 00:26:41.693  "
      ]
     },
     "execution_count": 27,
     "metadata": {},
     "output_type": "execute_result"
    }
   ],
   "source": [
    "query = \"\"\"\n",
    "select schema_name(t.schema_id) as schema_name,\n",
    "       t.name as table_name,\n",
    "       t.create_date,\n",
    "       t.modify_date\n",
    "from sys.tables t\n",
    "order by schema_name,\n",
    "         table_name;\n",
    "\"\"\"\n",
    "\n",
    "rows = pd.read_sql_query(query, connection)\n",
    "rows"
   ]
  },
  {
   "cell_type": "markdown",
   "id": "55271ba6",
   "metadata": {},
   "source": [
    "### Clean Up Sample Schema from DB"
   ]
  },
  {
   "cell_type": "code",
   "execution_count": 22,
   "id": "7c341d6c",
   "metadata": {},
   "outputs": [
    {
     "data": {
      "text/html": [
       "<div>\n",
       "<style scoped>\n",
       "    .dataframe tbody tr th:only-of-type {\n",
       "        vertical-align: middle;\n",
       "    }\n",
       "\n",
       "    .dataframe tbody tr th {\n",
       "        vertical-align: top;\n",
       "    }\n",
       "\n",
       "    .dataframe thead th {\n",
       "        text-align: right;\n",
       "    }\n",
       "</style>\n",
       "<table border=\"1\" class=\"dataframe\">\n",
       "  <thead>\n",
       "    <tr style=\"text-align: right;\">\n",
       "      <th></th>\n",
       "      <th>PKTABLE_QUALIFIER</th>\n",
       "      <th>PKTABLE_OWNER</th>\n",
       "      <th>PKTABLE_NAME</th>\n",
       "      <th>PKCOLUMN_NAME</th>\n",
       "      <th>FKTABLE_QUALIFIER</th>\n",
       "      <th>FKTABLE_OWNER</th>\n",
       "      <th>FKTABLE_NAME</th>\n",
       "      <th>FKCOLUMN_NAME</th>\n",
       "      <th>KEY_SEQ</th>\n",
       "      <th>UPDATE_RULE</th>\n",
       "      <th>DELETE_RULE</th>\n",
       "      <th>FK_NAME</th>\n",
       "      <th>PK_NAME</th>\n",
       "      <th>DEFERRABILITY</th>\n",
       "    </tr>\n",
       "  </thead>\n",
       "  <tbody>\n",
       "  </tbody>\n",
       "</table>\n",
       "</div>"
      ],
      "text/plain": [
       "Empty DataFrame\n",
       "Columns: [PKTABLE_QUALIFIER, PKTABLE_OWNER, PKTABLE_NAME, PKCOLUMN_NAME, FKTABLE_QUALIFIER, FKTABLE_OWNER, FKTABLE_NAME, FKCOLUMN_NAME, KEY_SEQ, UPDATE_RULE, DELETE_RULE, FK_NAME, PK_NAME, DEFERRABILITY]\n",
       "Index: []"
      ]
     },
     "execution_count": 22,
     "metadata": {},
     "output_type": "execute_result"
    }
   ],
   "source": [
    "#find foreign keys preventing tables from being deleted\n",
    "statement = \"\"\"\n",
    "EXEC sp_fkeys @pktable_name = 'Address',@pktable_owner    = N'SalesLT';\n",
    "\"\"\"\n",
    "\n",
    "response = pd.read_sql_query(statement, connection)\n",
    "response"
   ]
  },
  {
   "cell_type": "code",
   "execution_count": null,
   "id": "3930ce3e",
   "metadata": {},
   "outputs": [],
   "source": [
    "#find dependencies preventing tables from being deleted\n",
    "statement = \"\"\"\n",
    "EXEC sp_depends 'SalesLT.ProductModelProductDescription';\n",
    "\"\"\"\n",
    "\n",
    "response = pd.read_sql_query(statement, connection)\n",
    "response"
   ]
  },
  {
   "cell_type": "code",
   "execution_count": 24,
   "id": "22770d17",
   "metadata": {},
   "outputs": [
    {
     "data": {
      "text/html": [
       "<div>\n",
       "<style scoped>\n",
       "    .dataframe tbody tr th:only-of-type {\n",
       "        vertical-align: middle;\n",
       "    }\n",
       "\n",
       "    .dataframe tbody tr th {\n",
       "        vertical-align: top;\n",
       "    }\n",
       "\n",
       "    .dataframe thead th {\n",
       "        text-align: right;\n",
       "    }\n",
       "</style>\n",
       "<table border=\"1\" class=\"dataframe\">\n",
       "  <thead>\n",
       "    <tr style=\"text-align: right;\">\n",
       "      <th></th>\n",
       "      <th>name</th>\n",
       "      <th>object_id</th>\n",
       "      <th>principal_id</th>\n",
       "      <th>schema_id</th>\n",
       "      <th>parent_object_id</th>\n",
       "      <th>type</th>\n",
       "      <th>type_desc</th>\n",
       "      <th>create_date</th>\n",
       "      <th>modify_date</th>\n",
       "      <th>is_ms_shipped</th>\n",
       "      <th>is_published</th>\n",
       "      <th>is_schema_published</th>\n",
       "    </tr>\n",
       "  </thead>\n",
       "  <tbody>\n",
       "  </tbody>\n",
       "</table>\n",
       "</div>"
      ],
      "text/plain": [
       "Empty DataFrame\n",
       "Columns: [name, object_id, principal_id, schema_id, parent_object_id, type, type_desc, create_date, modify_date, is_ms_shipped, is_published, is_schema_published]\n",
       "Index: []"
      ]
     },
     "execution_count": 24,
     "metadata": {},
     "output_type": "execute_result"
    }
   ],
   "source": [
    "#find remaining schema objects\n",
    "statement = \"\"\"\n",
    "SELECT *\n",
    "FROM sys.objects WHERE schema_id = SCHEMA_ID('SalesLT');\n",
    "\"\"\"\n",
    "\n",
    "response = pd.read_sql_query(statement, connection)\n",
    "response"
   ]
  },
  {
   "cell_type": "code",
   "execution_count": null,
   "id": "0c4caa4f",
   "metadata": {},
   "outputs": [],
   "source": [
    "#drop schema objects one at a time, then drop schema\n",
    "statement = \"\"\"\n",
    "DROP SCHEMA SalesLT;\n",
    "\"\"\"\n",
    "\n",
    "connection.execute(statement)"
   ]
  },
  {
   "cell_type": "code",
   "execution_count": null,
   "id": "088afd16",
   "metadata": {},
   "outputs": [],
   "source": [
    "#drop schema objects one at a time, then drop schema\n",
    "statement = \"\"\"\n",
    "DROP TABLE [dbo].[Rel_Eviction_Notices];\n",
    "\"\"\"\n",
    "\n",
    "connection.execute(statement)"
   ]
  },
  {
   "cell_type": "markdown",
   "id": "90e78750",
   "metadata": {},
   "source": [
    "### Create Normalized Tables"
   ]
  },
  {
   "cell_type": "code",
   "execution_count": null,
   "id": "7fd51398",
   "metadata": {},
   "outputs": [],
   "source": [
    "#create eviction notices table\n",
    "statement = \"\"\"\n",
    "CREATE TABLE Rel_Eviction_Notices\n",
    "(\n",
    "    eviction_auto_id                                     uniqueidentifier PRIMARY KEY NOT NULL DEFAULT newid(),\n",
    "    eviction_id                                          VARCHAR(MAX) NOT NULL,\n",
    "    file_date                                            DATE NOT NULL,\n",
    "    non_payment                                          BIT NOT NULL,\n",
    "    breach                                               BIT NOT NULL,\n",
    "    nuisance                                             BIT NOT NULL,\n",
    "    illegal_use                                          BIT NOT NULL,\n",
    "    failure_to_sign_renewal                              BIT NOT NULL,\n",
    "    access_denial                                        BIT NOT NULL,\n",
    "    unapproved_subtenant                                 BIT NOT NULL,\n",
    "    owner_move_in                                        BIT NOT NULL,\n",
    "    demolition                                           BIT NOT NULL,\n",
    "    capital_improvement                                  BIT NOT NULL,\n",
    "    substantial_rehab                                    BIT NOT NULL,\n",
    "    ellis_act_withdrawal                                 BIT NOT NULL,\n",
    "    condo_conversion                                     BIT NOT NULL,\n",
    "    roommate_same_unit                                   BIT NOT NULL,\n",
    "    other_cause                                          BIT NOT NULL,\n",
    "    late_payments                                        BIT NOT NULL,\n",
    "    lead_remediation                                     BIT NOT NULL,\n",
    "    development                                          BIT NOT NULL,\n",
    "    good_samaritan_ends                                  BIT NOT NULL,\n",
    "    constraints_date                                     DATE\n",
    ")\n",
    "\"\"\"\n",
    "\n",
    "connection.execute(statement)"
   ]
  },
  {
   "cell_type": "code",
   "execution_count": null,
   "id": "433d4c6e",
   "metadata": {},
   "outputs": [],
   "source": [
    "#create location table\n",
    "statement = \"\"\"\n",
    "CREATE TABLE Rel_Location\n",
    "(\n",
    "    location_id                                          uniqueidentifier PRIMARY KEY NOT NULL DEFAULT newid(),\n",
    "    block_level_address                                  VARCHAR NOT NULL,\n",
    "    zipcode                                              INT NOT NULL,\n",
    "    current_supervisor_districts                         TINYINT,\n",
    "    analysis_neighborhoods                               TINYINT,\n",
    "    city                                                 VARCHAR NOT NULL,\n",
    "    state                                                VARCHAR NOT NULL,\n",
    "    supervisor_district                                  TINYINT NOT NULL,\n",
    "    neighborhoods_analysis_boundaries                    VARCHAR,\n",
    "    location                                             GEOGRAPHY,\n",
    "    shape                                                GEOGRAPHY,\n",
    "    sf_find_neighborhoods                                TINYINT,\n",
    "    current_police_districts                             TINYINT,\n",
    "    cbd_bid_gbd_boundaries                               TINYINT,\n",
    "    central_market_tenderloin_boundary                   TINYINT,\n",
    "    areas_of_vulnerability                               TINYINT,\n",
    "    central_market_tenderloin_boundary_polygon           TINYINT,\n",
    "    fix_it_zones                                         TINYINT,\n",
    "    neighborhoods                                        TINYINT\n",
    ")\n",
    "\"\"\"\n",
    "\n",
    "connection.execute(statement)"
   ]
  },
  {
   "cell_type": "code",
   "execution_count": null,
   "id": "95502c01",
   "metadata": {},
   "outputs": [],
   "source": [
    "#create demographics table\n",
    "statement = \"\"\"\n",
    "CREATE TABLE Rel_Demographics\n",
    "(\n",
    "    demographic_id                                          uniqueidentifier PRIMARY KEY NOT NULL DEFAULT newid(),\n",
    "    median_household_income                                 INT NOT NULL,\n",
    "    population                                              INT NOT NULL,\n",
    "    zipcode                                                 INT NOT NULL,\n",
    "    avg_population_age                                      FLOAT NOT NULL,\n",
    "    people_per_sq_mile                                      FLOAT NOT NULL\n",
    ")\n",
    "\"\"\"\n",
    "\n",
    "connection.execute(statement)"
   ]
  },
  {
   "cell_type": "code",
   "execution_count": null,
   "id": "d6173fea",
   "metadata": {},
   "outputs": [],
   "source": [
    "#create buyout agreements table\n",
    "statement = \"\"\"\n",
    "CREATE TABLE Rel_BuyoutAgreements\n",
    "(\n",
    "    case_number_auto_id                                          uniqueidentifier PRIMARY KEY NOT NULL DEFAULT newid(),\n",
    "    case_number                                                  VARCHAR NOT NULL,\n",
    "    location_id                                                  uniqueidentifier NOT NULL FOREIGN KEY REFERENCES Rel_Location(location_id),\n",
    "    pre_buyout_disclosure_declaration                            DATE,\n",
    "    buyout_agreement_date                                        DATE,\n",
    "    address                                                      VARCHAR NOT NULL,\n",
    "    buyout_amount                                                INT,\n",
    "    unknown_amount                                               BIT,\n",
    "    other_consideration                                          BIT\n",
    ")\n",
    "\"\"\"\n",
    "\n",
    "connection.execute(statement)"
   ]
  },
  {
   "cell_type": "code",
   "execution_count": null,
   "id": "0222dcac",
   "metadata": {},
   "outputs": [],
   "source": [
    "#create building table\n",
    "statement = \"\"\"\n",
    "CREATE TABLE Rel_Building\n",
    "(\n",
    "    building_id                                          uniqueidentifier PRIMARY KEY NOT NULL DEFAULT newid(),\n",
    "    number_of_tenants                                    TINYINT\n",
    ")\n",
    "\"\"\"\n",
    "\n",
    "connection.execute(statement)"
   ]
  },
  {
   "cell_type": "markdown",
   "id": "912d9cf9",
   "metadata": {},
   "source": [
    "### Add Missing Foreign Keys"
   ]
  },
  {
   "cell_type": "code",
   "execution_count": null,
   "id": "2e7f95f9",
   "metadata": {},
   "outputs": [],
   "source": [
    "#add building_id column to buyout agreements\n",
    "statement = \"\"\"\n",
    "ALTER TABLE dbo.Rel_BuyoutAgreements\n",
    "ADD building_id uniqueidentifier;\n",
    "\"\"\"\n",
    "\n",
    "connection.execute(statement)"
   ]
  },
  {
   "cell_type": "code",
   "execution_count": null,
   "id": "0bd51f3a",
   "metadata": {},
   "outputs": [],
   "source": [
    "#make building_id FK in buyout agreements\n",
    "statement = \"\"\"\n",
    "ALTER TABLE dbo.Rel_BuyoutAgreements\n",
    "ADD CONSTRAINT building_id\n",
    "FOREIGN KEY (building_id) REFERENCES dbo.Rel_Building(building_id);\n",
    "\"\"\"\n",
    "\n",
    "connection.execute(statement)"
   ]
  },
  {
   "cell_type": "code",
   "execution_count": null,
   "id": "08e943b2",
   "metadata": {},
   "outputs": [],
   "source": [
    "#add demographic_id column to location\n",
    "statement = \"\"\"\n",
    "ALTER TABLE dbo.Rel_Location\n",
    "ADD demographic uniqueidentifier;\n",
    "\"\"\"\n",
    "\n",
    "connection.execute(statement)"
   ]
  },
  {
   "cell_type": "code",
   "execution_count": null,
   "id": "501297be",
   "metadata": {},
   "outputs": [],
   "source": [
    "#make demographic_id FK in location\n",
    "statement = \"\"\"\n",
    "ALTER TABLE dbo.Rel_Location\n",
    "ADD CONSTRAINT demographic_id\n",
    "FOREIGN KEY (demographic_id) REFERENCES dbo.Rel_Demographics(demographic_id);\n",
    "\"\"\"\n",
    "\n",
    "connection.execute(statement)"
   ]
  },
  {
   "cell_type": "code",
   "execution_count": 30,
   "id": "ce404f23",
   "metadata": {},
   "outputs": [
    {
     "data": {
      "text/plain": [
       "<sqlalchemy.engine.cursor.LegacyCursorResult at 0x7fbcc6774fd0>"
      ]
     },
     "execution_count": 30,
     "metadata": {},
     "output_type": "execute_result"
    }
   ],
   "source": [
    "#add location_id to eviction notices\n",
    "statement = \"\"\"\n",
    "ALTER TABLE dbo.Rel_Eviction_Notices\n",
    "ADD location_id uniqueidentifier;\n",
    "\"\"\"\n",
    "\n",
    "connection.execute(statement)"
   ]
  },
  {
   "cell_type": "code",
   "execution_count": 31,
   "id": "41ca1f1d",
   "metadata": {},
   "outputs": [
    {
     "data": {
      "text/plain": [
       "<sqlalchemy.engine.cursor.LegacyCursorResult at 0x7fbcc85f2520>"
      ]
     },
     "execution_count": 31,
     "metadata": {},
     "output_type": "execute_result"
    }
   ],
   "source": [
    "#make location_id FK in eviction notices\n",
    "statement = \"\"\"\n",
    "ALTER TABLE dbo.Rel_Eviction_Notices\n",
    "ADD CONSTRAINT location_id\n",
    "FOREIGN KEY (location_id) REFERENCES dbo.Rel_Location(location_id);\n",
    "\"\"\"\n",
    "\n",
    "connection.execute(statement)"
   ]
  }
 ],
 "metadata": {
  "kernelspec": {
   "display_name": "Python 3",
   "language": "python",
   "name": "python3"
  },
  "language_info": {
   "codemirror_mode": {
    "name": "ipython",
    "version": 3
   },
   "file_extension": ".py",
   "mimetype": "text/x-python",
   "name": "python",
   "nbconvert_exporter": "python",
   "pygments_lexer": "ipython3",
   "version": "3.8.8"
  }
 },
 "nbformat": 4,
 "nbformat_minor": 5
}
