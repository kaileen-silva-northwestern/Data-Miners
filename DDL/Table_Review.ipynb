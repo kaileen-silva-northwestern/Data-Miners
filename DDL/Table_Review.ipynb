{
 "cells": [
  {
   "cell_type": "code",
   "execution_count": 4,
   "metadata": {},
   "outputs": [],
   "source": [
    "import sqlalchemy as sa\n",
    "import os\n",
    "\n",
    "from sqlalchemy import Table, MetaData, Column, Integer, text\n",
    "from sqlalchemy_schemadisplay import create_schema_graph\n",
    "from sqlalchemy import MetaData"
   ]
  },
  {
   "cell_type": "code",
   "execution_count": 5,
   "metadata": {},
   "outputs": [],
   "source": [
    "## You must have this driver installed on your local machine\n",
    "\n",
    "username = os.getenv('AZURE_MSDS432_USERNAME')\n",
    "password = os.getenv('AZURE_MSDS432_PASSWORD')\n",
    "host = 'mysqlserver-432.database.windows.net'\n",
    "database = 'mySampleDatabase'\n",
    "authentication = \"SqlPassword\"\n",
    "conn_string = sa.engine.url.URL(\n",
    "     \"mssql+pyodbc\",\n",
    "     username=username,\n",
    "     password=password,\n",
    "     host=host,\n",
    "     port=1433,\n",
    "     database=database,\n",
    "     query={\"driver\": \"ODBC Driver 18 for SQL Server\", \"authentication\": authentication}\n",
    " )\n",
    "\n",
    "engine = sa.create_engine(conn_string, pool_timeout=60)\n",
    "connection = engine.connect()"
   ]
  },
  {
   "cell_type": "code",
   "execution_count": 8,
   "metadata": {},
   "outputs": [],
   "source": [
    "graph = create_schema_graph(metadata=MetaData(conn_string), rankdir='LR')\n",
    "graph.write_png('Data_Miners_ERD.png')"
   ]
  },
  {
   "cell_type": "code",
   "execution_count": null,
   "metadata": {},
   "outputs": [],
   "source": []
  }
 ],
 "metadata": {
  "kernelspec": {
   "display_name": "Python 3 (ipykernel)",
   "language": "python",
   "name": "python3"
  },
  "language_info": {
   "codemirror_mode": {
    "name": "ipython",
    "version": 3
   },
   "file_extension": ".py",
   "mimetype": "text/x-python",
   "name": "python",
   "nbconvert_exporter": "python",
   "pygments_lexer": "ipython3",
   "version": "3.8.5"
  }
 },
 "nbformat": 4,
 "nbformat_minor": 4
}
