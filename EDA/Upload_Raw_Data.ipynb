{
 "cells": [
  {
   "cell_type": "code",
   "execution_count": 1,
   "metadata": {},
   "outputs": [],
   "source": [
    "import pandas as pd\n",
    "from sodapy import Socrata\n",
    "from tqdm import tqdm\n",
    "import os\n",
    "\n",
    "import sqlalchemy as sa\n",
    "from sqlalchemy import Table, MetaData, Column, Integer, text"
   ]
  },
  {
   "cell_type": "markdown",
   "metadata": {},
   "source": [
    "## Get the data"
   ]
  },
  {
   "cell_type": "markdown",
   "metadata": {},
   "source": [
    "Get the SF Data via API"
   ]
  },
  {
   "cell_type": "code",
   "execution_count": 4,
   "metadata": {},
   "outputs": [
    {
     "name": "stderr",
     "output_type": "stream",
     "text": [
      "WARNING:root:Requests made without an app_token will be subject to strict throttling limits.\n"
     ]
    }
   ],
   "source": [
    "## https://data.sfgov.org/resource/ramy-di5m.json - addresses with units\n",
    "client = Socrata(\"data.sfgov.org\", None)"
   ]
  },
  {
   "cell_type": "code",
   "execution_count": 5,
   "metadata": {},
   "outputs": [],
   "source": [
    "addresses_with_units = {'api':'ramy-di5m', 'max_rows': 388000}\n",
    "evictions = {'api':'5cei-gny5', 'max_rows': 43400}\n",
    "buyout_agreements = {'api':'wmam-7g8d', 'max_rows': 5900}"
   ]
  },
  {
   "cell_type": "code",
   "execution_count": 6,
   "metadata": {},
   "outputs": [],
   "source": [
    "results_addresses_with_units = client.get(addresses_with_units['api'], limit=addresses_with_units['max_rows'])\n",
    "results_evictions = client.get(evictions['api'], limit=evictions['max_rows'])\n",
    "results_buyout_agreements = client.get(buyout_agreements['api'], limit=buyout_agreements['max_rows'])"
   ]
  },
  {
   "cell_type": "code",
   "execution_count": 7,
   "metadata": {},
   "outputs": [],
   "source": [
    "# Convert to pandas DataFrames\n",
    "df_addresses_with_units = pd.DataFrame.from_records(results_addresses_with_units)\n",
    "df_evictions = pd.DataFrame.from_records(results_evictions)\n",
    "df_buyout_agreements = pd.DataFrame.from_records(results_buyout_agreements)"
   ]
  },
  {
   "cell_type": "code",
   "execution_count": 8,
   "metadata": {},
   "outputs": [
    {
     "name": "stdout",
     "output_type": "stream",
     "text": [
      "Addresses with units dataframe size: 386975\n",
      "Evictions dataframe size: 43393\n",
      "Buyout Agreements dataframe size: 5855\n"
     ]
    }
   ],
   "source": [
    "## make sure we have the same number of rows as is listed in the UI\n",
    "print(f'Addresses with units dataframe size: {df_addresses_with_units.shape[0]}') \n",
    "print(f'Evictions dataframe size: {df_evictions.shape[0]}') \n",
    "print(f'Buyout Agreements dataframe size: {df_buyout_agreements.shape[0]}') "
   ]
  },
  {
   "cell_type": "code",
   "execution_count": 9,
   "metadata": {},
   "outputs": [
    {
     "data": {
      "text/html": [
       "<div>\n",
       "<style scoped>\n",
       "    .dataframe tbody tr th:only-of-type {\n",
       "        vertical-align: middle;\n",
       "    }\n",
       "\n",
       "    .dataframe tbody tr th {\n",
       "        vertical-align: top;\n",
       "    }\n",
       "\n",
       "    .dataframe thead th {\n",
       "        text-align: right;\n",
       "    }\n",
       "</style>\n",
       "<table border=\"1\" class=\"dataframe\">\n",
       "  <thead>\n",
       "    <tr style=\"text-align: right;\">\n",
       "      <th></th>\n",
       "      <th>eas_baseid</th>\n",
       "      <th>eas_subid</th>\n",
       "      <th>eas_fullid</th>\n",
       "      <th>address</th>\n",
       "      <th>address_number</th>\n",
       "      <th>street_name</th>\n",
       "      <th>street_type</th>\n",
       "      <th>cnn</th>\n",
       "      <th>longitude</th>\n",
       "      <th>latitude</th>\n",
       "      <th>...</th>\n",
       "      <th>nhood</th>\n",
       "      <th>:@computed_region_6qbp_sg9q</th>\n",
       "      <th>:@computed_region_qgnn_b9vv</th>\n",
       "      <th>:@computed_region_26cr_cadq</th>\n",
       "      <th>:@computed_region_ajp5_b2md</th>\n",
       "      <th>unit_number</th>\n",
       "      <th>parcel_number</th>\n",
       "      <th>block</th>\n",
       "      <th>lot</th>\n",
       "      <th>address_number_suffix</th>\n",
       "    </tr>\n",
       "  </thead>\n",
       "  <tbody>\n",
       "    <tr>\n",
       "      <th>0</th>\n",
       "      <td>500181</td>\n",
       "      <td>822322</td>\n",
       "      <td>500181-822322-0</td>\n",
       "      <td>10 MARINA BLVD</td>\n",
       "      <td>10</td>\n",
       "      <td>MARINA</td>\n",
       "      <td>BLVD</td>\n",
       "      <td>8701000</td>\n",
       "      <td>-122.43245572</td>\n",
       "      <td>37.80528301</td>\n",
       "      <td>...</td>\n",
       "      <td>Marina</td>\n",
       "      <td>17</td>\n",
       "      <td>4</td>\n",
       "      <td>6</td>\n",
       "      <td>13</td>\n",
       "      <td>NaN</td>\n",
       "      <td>NaN</td>\n",
       "      <td>NaN</td>\n",
       "      <td>NaN</td>\n",
       "      <td>NaN</td>\n",
       "    </tr>\n",
       "    <tr>\n",
       "      <th>1</th>\n",
       "      <td>445641</td>\n",
       "      <td>665584</td>\n",
       "      <td>445641-665584-0</td>\n",
       "      <td>1151 TAYLOR ST</td>\n",
       "      <td>1151</td>\n",
       "      <td>TAYLOR</td>\n",
       "      <td>ST</td>\n",
       "      <td>12443000</td>\n",
       "      <td>-122.41300438</td>\n",
       "      <td>37.79321685</td>\n",
       "      <td>...</td>\n",
       "      <td>Nob Hill</td>\n",
       "      <td>16</td>\n",
       "      <td>6</td>\n",
       "      <td>3</td>\n",
       "      <td>21</td>\n",
       "      <td>NaN</td>\n",
       "      <td>NaN</td>\n",
       "      <td>NaN</td>\n",
       "      <td>NaN</td>\n",
       "      <td>NaN</td>\n",
       "    </tr>\n",
       "    <tr>\n",
       "      <th>2</th>\n",
       "      <td>446863</td>\n",
       "      <td>667522</td>\n",
       "      <td>446863-667522-0</td>\n",
       "      <td>1317 HYDE ST</td>\n",
       "      <td>1317</td>\n",
       "      <td>HYDE</td>\n",
       "      <td>ST</td>\n",
       "      <td>7129000</td>\n",
       "      <td>-122.41817598</td>\n",
       "      <td>37.79306975</td>\n",
       "      <td>...</td>\n",
       "      <td>Russian Hill</td>\n",
       "      <td>16</td>\n",
       "      <td>6</td>\n",
       "      <td>3</td>\n",
       "      <td>32</td>\n",
       "      <td>NaN</td>\n",
       "      <td>NaN</td>\n",
       "      <td>NaN</td>\n",
       "      <td>NaN</td>\n",
       "      <td>NaN</td>\n",
       "    </tr>\n",
       "    <tr>\n",
       "      <th>3</th>\n",
       "      <td>363697</td>\n",
       "      <td>753449</td>\n",
       "      <td>363697-753449-0</td>\n",
       "      <td>3449 22ND ST #3</td>\n",
       "      <td>3449</td>\n",
       "      <td>22ND</td>\n",
       "      <td>ST</td>\n",
       "      <td>1196000</td>\n",
       "      <td>-122.42406182</td>\n",
       "      <td>37.75494435</td>\n",
       "      <td>...</td>\n",
       "      <td>Mission</td>\n",
       "      <td>52</td>\n",
       "      <td>3</td>\n",
       "      <td>5</td>\n",
       "      <td>20</td>\n",
       "      <td>3</td>\n",
       "      <td>NaN</td>\n",
       "      <td>NaN</td>\n",
       "      <td>NaN</td>\n",
       "      <td>NaN</td>\n",
       "    </tr>\n",
       "    <tr>\n",
       "      <th>4</th>\n",
       "      <td>359019</td>\n",
       "      <td>748103</td>\n",
       "      <td>359019-748103-0</td>\n",
       "      <td>537 14TH ST #2</td>\n",
       "      <td>537</td>\n",
       "      <td>14TH</td>\n",
       "      <td>ST</td>\n",
       "      <td>590000</td>\n",
       "      <td>-122.42512553</td>\n",
       "      <td>37.76783319</td>\n",
       "      <td>...</td>\n",
       "      <td>Mission</td>\n",
       "      <td>37</td>\n",
       "      <td>3</td>\n",
       "      <td>5</td>\n",
       "      <td>20</td>\n",
       "      <td>2</td>\n",
       "      <td>NaN</td>\n",
       "      <td>NaN</td>\n",
       "      <td>NaN</td>\n",
       "      <td>NaN</td>\n",
       "    </tr>\n",
       "  </tbody>\n",
       "</table>\n",
       "<p>5 rows × 22 columns</p>\n",
       "</div>"
      ],
      "text/plain": [
       "  eas_baseid eas_subid       eas_fullid          address address_number  \\\n",
       "0     500181    822322  500181-822322-0   10 MARINA BLVD             10   \n",
       "1     445641    665584  445641-665584-0   1151 TAYLOR ST           1151   \n",
       "2     446863    667522  446863-667522-0     1317 HYDE ST           1317   \n",
       "3     363697    753449  363697-753449-0  3449 22ND ST #3           3449   \n",
       "4     359019    748103  359019-748103-0   537 14TH ST #2            537   \n",
       "\n",
       "  street_name street_type       cnn      longitude     latitude  ...  \\\n",
       "0      MARINA        BLVD   8701000  -122.43245572  37.80528301  ...   \n",
       "1      TAYLOR          ST  12443000  -122.41300438  37.79321685  ...   \n",
       "2        HYDE          ST   7129000  -122.41817598  37.79306975  ...   \n",
       "3        22ND          ST   1196000  -122.42406182  37.75494435  ...   \n",
       "4        14TH          ST    590000  -122.42512553  37.76783319  ...   \n",
       "\n",
       "          nhood :@computed_region_6qbp_sg9q :@computed_region_qgnn_b9vv  \\\n",
       "0        Marina                          17                           4   \n",
       "1      Nob Hill                          16                           6   \n",
       "2  Russian Hill                          16                           6   \n",
       "3       Mission                          52                           3   \n",
       "4       Mission                          37                           3   \n",
       "\n",
       "  :@computed_region_26cr_cadq :@computed_region_ajp5_b2md unit_number  \\\n",
       "0                           6                          13         NaN   \n",
       "1                           3                          21         NaN   \n",
       "2                           3                          32         NaN   \n",
       "3                           5                          20           3   \n",
       "4                           5                          20           2   \n",
       "\n",
       "  parcel_number block  lot address_number_suffix  \n",
       "0           NaN   NaN  NaN                   NaN  \n",
       "1           NaN   NaN  NaN                   NaN  \n",
       "2           NaN   NaN  NaN                   NaN  \n",
       "3           NaN   NaN  NaN                   NaN  \n",
       "4           NaN   NaN  NaN                   NaN  \n",
       "\n",
       "[5 rows x 22 columns]"
      ]
     },
     "execution_count": 9,
     "metadata": {},
     "output_type": "execute_result"
    }
   ],
   "source": [
    "df_addresses_with_units.head()"
   ]
  },
  {
   "cell_type": "markdown",
   "metadata": {},
   "source": [
    "Get the ZipAtlas Data via CSVs, locally"
   ]
  },
  {
   "cell_type": "code",
   "execution_count": 10,
   "metadata": {},
   "outputs": [],
   "source": [
    "# As dataframes\n",
    "df_median_age = pd.read_csv('median-age.csv')\n",
    "df_population_density = pd.read_csv('population-density.csv')\n",
    "df_median_household_income = pd.read_csv('median-household-income.csv')"
   ]
  },
  {
   "cell_type": "markdown",
   "metadata": {},
   "source": [
    "## Connect to the Azure SQL Database"
   ]
  },
  {
   "cell_type": "code",
   "execution_count": 11,
   "metadata": {},
   "outputs": [],
   "source": [
    "# set environ variables like: \n",
    "##os.environ['AZURE_MSDS432_USERNAME'] = <username>\n",
    "##os.environ['AZURE_MSDS432_PASSWORD'] = <password>"
   ]
  },
  {
   "cell_type": "code",
   "execution_count": 12,
   "metadata": {},
   "outputs": [],
   "source": [
    "## You must have this driver installed on your local machine\n",
    "\n",
    "username = os.getenv('AZURE_MSDS432_USERNAME')\n",
    "password = os.getenv('AZURE_MSDS432_PASSWORD')\n",
    "host = 'mysqlserver-432.database.windows.net'\n",
    "database = 'mySampleDatabase'\n",
    "authentication = \"SqlPassword\"\n",
    "conn_string = sa.engine.url.URL(\n",
    "     \"mssql+pyodbc\",\n",
    "     username=username,\n",
    "     password=password,\n",
    "     host=host,\n",
    "     port=1433,\n",
    "     database=database,\n",
    "     query={\"driver\": \"ODBC Driver 18 for SQL Server\", \"authentication\": authentication}\n",
    " )"
   ]
  },
  {
   "cell_type": "code",
   "execution_count": 13,
   "metadata": {},
   "outputs": [],
   "source": [
    "engine = sa.create_engine(conn_string, pool_timeout=60)\n",
    "connection = engine.connect()"
   ]
  },
  {
   "cell_type": "markdown",
   "metadata": {},
   "source": [
    "## Check what tables we have now"
   ]
  },
  {
   "cell_type": "code",
   "execution_count": 14,
   "metadata": {},
   "outputs": [],
   "source": [
    "check_tables_query = \"\"\"\n",
    "SELECt schema_name(t.schema_id) as schema_name,\n",
    "       t.name as table_name,\n",
    "       t.create_date,\n",
    "       t.modify_date\n",
    "FROM sys.tables t\n",
    "ORDER BY schema_name,\n",
    "         table_name;\n",
    "\"\"\"\n",
    "\n",
    "tables = pd.read_sql_query(check_tables_query, connection)"
   ]
  },
  {
   "cell_type": "code",
   "execution_count": 15,
   "metadata": {},
   "outputs": [
    {
     "data": {
      "text/html": [
       "<div>\n",
       "<style scoped>\n",
       "    .dataframe tbody tr th:only-of-type {\n",
       "        vertical-align: middle;\n",
       "    }\n",
       "\n",
       "    .dataframe tbody tr th {\n",
       "        vertical-align: top;\n",
       "    }\n",
       "\n",
       "    .dataframe thead th {\n",
       "        text-align: right;\n",
       "    }\n",
       "</style>\n",
       "<table border=\"1\" class=\"dataframe\">\n",
       "  <thead>\n",
       "    <tr style=\"text-align: right;\">\n",
       "      <th></th>\n",
       "      <th>schema_name</th>\n",
       "      <th>table_name</th>\n",
       "      <th>create_date</th>\n",
       "      <th>modify_date</th>\n",
       "    </tr>\n",
       "  </thead>\n",
       "  <tbody>\n",
       "    <tr>\n",
       "      <th>0</th>\n",
       "      <td>dbo</td>\n",
       "      <td>BuildVersion</td>\n",
       "      <td>2022-05-15 20:04:00.113</td>\n",
       "      <td>2022-05-15 20:04:01.767</td>\n",
       "    </tr>\n",
       "    <tr>\n",
       "      <th>1</th>\n",
       "      <td>dbo</td>\n",
       "      <td>ErrorLog</td>\n",
       "      <td>2022-05-15 20:04:00.113</td>\n",
       "      <td>2022-05-15 20:04:01.767</td>\n",
       "    </tr>\n",
       "    <tr>\n",
       "      <th>2</th>\n",
       "      <td>dbo</td>\n",
       "      <td>Rel_Building</td>\n",
       "      <td>2022-05-17 22:49:05.513</td>\n",
       "      <td>2022-05-17 22:49:05.513</td>\n",
       "    </tr>\n",
       "    <tr>\n",
       "      <th>3</th>\n",
       "      <td>dbo</td>\n",
       "      <td>Rel_BuyoutAgreements</td>\n",
       "      <td>2022-05-17 22:47:28.627</td>\n",
       "      <td>2022-05-17 22:47:28.627</td>\n",
       "    </tr>\n",
       "    <tr>\n",
       "      <th>4</th>\n",
       "      <td>dbo</td>\n",
       "      <td>Rel_Demographics</td>\n",
       "      <td>2022-05-17 22:34:37.987</td>\n",
       "      <td>2022-05-17 22:34:37.987</td>\n",
       "    </tr>\n",
       "    <tr>\n",
       "      <th>5</th>\n",
       "      <td>dbo</td>\n",
       "      <td>Rel_Eviction_Notices</td>\n",
       "      <td>2022-05-17 21:59:47.223</td>\n",
       "      <td>2022-05-17 21:59:47.223</td>\n",
       "    </tr>\n",
       "    <tr>\n",
       "      <th>6</th>\n",
       "      <td>dbo</td>\n",
       "      <td>Rel_Location</td>\n",
       "      <td>2022-05-17 22:25:35.210</td>\n",
       "      <td>2022-05-17 22:47:28.630</td>\n",
       "    </tr>\n",
       "    <tr>\n",
       "      <th>7</th>\n",
       "      <td>dbo</td>\n",
       "      <td>SF_Buyout_Agreements_Raw</td>\n",
       "      <td>2022-05-16 00:27:00.917</td>\n",
       "      <td>2022-05-16 00:27:00.943</td>\n",
       "    </tr>\n",
       "    <tr>\n",
       "      <th>8</th>\n",
       "      <td>dbo</td>\n",
       "      <td>SF_Eviction_Notices_Raw</td>\n",
       "      <td>2022-05-16 00:41:20.143</td>\n",
       "      <td>2022-05-16 00:41:20.190</td>\n",
       "    </tr>\n",
       "    <tr>\n",
       "      <th>9</th>\n",
       "      <td>dbo</td>\n",
       "      <td>Zip_Atlas_Median_Age_Raw</td>\n",
       "      <td>2022-05-16 00:26:38.500</td>\n",
       "      <td>2022-05-16 00:26:38.530</td>\n",
       "    </tr>\n",
       "    <tr>\n",
       "      <th>10</th>\n",
       "      <td>dbo</td>\n",
       "      <td>Zip_Atlas_Median_Household_Income_Raw</td>\n",
       "      <td>2022-05-16 00:26:44.743</td>\n",
       "      <td>2022-05-16 00:26:44.773</td>\n",
       "    </tr>\n",
       "    <tr>\n",
       "      <th>11</th>\n",
       "      <td>dbo</td>\n",
       "      <td>Zip_Atlas_Population_Density_Raw</td>\n",
       "      <td>2022-05-16 00:26:41.683</td>\n",
       "      <td>2022-05-16 00:26:41.693</td>\n",
       "    </tr>\n",
       "  </tbody>\n",
       "</table>\n",
       "</div>"
      ],
      "text/plain": [
       "   schema_name                             table_name             create_date  \\\n",
       "0          dbo                           BuildVersion 2022-05-15 20:04:00.113   \n",
       "1          dbo                               ErrorLog 2022-05-15 20:04:00.113   \n",
       "2          dbo                           Rel_Building 2022-05-17 22:49:05.513   \n",
       "3          dbo                   Rel_BuyoutAgreements 2022-05-17 22:47:28.627   \n",
       "4          dbo                       Rel_Demographics 2022-05-17 22:34:37.987   \n",
       "5          dbo                   Rel_Eviction_Notices 2022-05-17 21:59:47.223   \n",
       "6          dbo                           Rel_Location 2022-05-17 22:25:35.210   \n",
       "7          dbo               SF_Buyout_Agreements_Raw 2022-05-16 00:27:00.917   \n",
       "8          dbo                SF_Eviction_Notices_Raw 2022-05-16 00:41:20.143   \n",
       "9          dbo               Zip_Atlas_Median_Age_Raw 2022-05-16 00:26:38.500   \n",
       "10         dbo  Zip_Atlas_Median_Household_Income_Raw 2022-05-16 00:26:44.743   \n",
       "11         dbo       Zip_Atlas_Population_Density_Raw 2022-05-16 00:26:41.683   \n",
       "\n",
       "               modify_date  \n",
       "0  2022-05-15 20:04:01.767  \n",
       "1  2022-05-15 20:04:01.767  \n",
       "2  2022-05-17 22:49:05.513  \n",
       "3  2022-05-17 22:47:28.627  \n",
       "4  2022-05-17 22:34:37.987  \n",
       "5  2022-05-17 21:59:47.223  \n",
       "6  2022-05-17 22:47:28.630  \n",
       "7  2022-05-16 00:27:00.943  \n",
       "8  2022-05-16 00:41:20.190  \n",
       "9  2022-05-16 00:26:38.530  \n",
       "10 2022-05-16 00:26:44.773  \n",
       "11 2022-05-16 00:26:41.693  "
      ]
     },
     "execution_count": 15,
     "metadata": {},
     "output_type": "execute_result"
    }
   ],
   "source": [
    "tables"
   ]
  },
  {
   "cell_type": "markdown",
   "metadata": {},
   "source": [
    "## Upload the raw tables"
   ]
  },
  {
   "cell_type": "code",
   "execution_count": 15,
   "metadata": {},
   "outputs": [],
   "source": [
    "## Write raw tables to our database: Zip Atlas\n",
    "engine = sa.create_engine(conn_string, pool_timeout=60)\n",
    "\n",
    "df_median_age.to_sql('Zip_Atlas_Median_Age_Raw', con=engine, if_exists='replace', index_label='id')\n",
    "df_population_density.to_sql('Zip_Atlas_Population_Density_Raw', con=engine, if_exists='replace', index_label='id')\n",
    "df_median_household_income.to_sql('Zip_Atlas_Median_Household_Income_Raw', con=engine, if_exists='replace', index_label='id')\n"
   ]
  },
  {
   "cell_type": "markdown",
   "metadata": {},
   "source": [
    "There are some weird columns in the datasets we get from the API that I'll just drop for now"
   ]
  },
  {
   "cell_type": "code",
   "execution_count": 16,
   "metadata": {},
   "outputs": [],
   "source": [
    "df_evictions_columns_cleaned = df_evictions[df_evictions.columns.drop(list(df_evictions.filter(regex='@computed')))]\n",
    "df_buyout_agreements_columns_cleaned = df_buyout_agreements[df_buyout_agreements.columns.drop(list(df_buyout_agreements.filter(regex='@computed')))]\n",
    "df_addresses_with_units_columns_cleaned = df_addresses_with_units[df_addresses_with_units.columns.drop(list(df_addresses_with_units.filter(regex='@computed')))]"
   ]
  },
  {
   "cell_type": "code",
   "execution_count": 17,
   "metadata": {},
   "outputs": [],
   "source": [
    "## Convert all the columns to strings - we'll need to update the dtype later\n",
    "\n",
    "for column in df_evictions_columns_cleaned.columns:\n",
    "    df_evictions_columns_cleaned = df_evictions_columns_cleaned.astype({column: str})\n",
    "\n",
    "for column in df_buyout_agreements_columns_cleaned.columns:\n",
    "    df_buyout_agreements_columns_cleaned = df_buyout_agreements_columns_cleaned.astype({column: str})\n",
    "    \n",
    "for column in df_addresses_with_units_columns_cleaned.columns:\n",
    "    df_addresses_with_units_columns_cleaned = df_addresses_with_units_columns_cleaned.astype({column: str})"
   ]
  },
  {
   "cell_type": "code",
   "execution_count": 18,
   "metadata": {},
   "outputs": [],
   "source": [
    "## Write raw tables to our database: SF Dataset\n",
    "engine = sa.create_engine(conn_string, pool_timeout=60)\n",
    "\n",
    "df_buyout_agreements_columns_cleaned.to_sql('SF_Buyout_Agreements_Raw', con=engine, if_exists='replace', index_label='id')\n"
   ]
  },
  {
   "cell_type": "code",
   "execution_count": 19,
   "metadata": {},
   "outputs": [],
   "source": [
    "## the other two dataframes are very large.. it would help to have a progress bar\n",
    "## Credit to: https://stackoverflow.com/questions/39494056/progress-bar-for-pandas-dataframe-to-sql\n",
    "\n",
    "def chunker(seq, size):\n",
    "    # from http://stackoverflow.com/a/434328\n",
    "    return (seq[pos:pos + size] for pos in range(0, len(seq), size))\n",
    "\n",
    "def insert_with_progress(df, connection_string, table_name):\n",
    "    engine = sa.create_engine(connection_string, pool_timeout=60)\n",
    "    chunksize = int(len(df) / 10) # 10%\n",
    "    with tqdm(total=len(df)) as pbar:\n",
    "        for i, cdf in enumerate(chunker(df, chunksize)):\n",
    "            replace = \"replace\" if i == 0 else \"append\"\n",
    "            cdf.to_sql(name=table_name, con=engine, if_exists=replace, index_label='id')\n",
    "            pbar.update(chunksize)\n",
    "            "
   ]
  },
  {
   "cell_type": "code",
   "execution_count": 39,
   "metadata": {},
   "outputs": [
    {
     "name": "stderr",
     "output_type": "stream",
     "text": [
      "47729it [09:45, 81.54it/s]                                                                                                                                                                      \n"
     ]
    }
   ],
   "source": [
    "insert_with_progress(df_evictions_columns_cleaned, conn_string, 'SF_Eviction_Notices_Raw')"
   ]
  },
  {
   "cell_type": "code",
   "execution_count": 20,
   "metadata": {},
   "outputs": [
    {
     "name": "stderr",
     "output_type": "stream",
     "text": [
      "425667it [1:14:05, 95.76it/s]                                                                                                                                                                             \n"
     ]
    }
   ],
   "source": [
    "#TODO: Update addresses with units dataframe\n",
    "\n",
    "insert_with_progress(df_addresses_with_units_columns_cleaned, conn_string, 'SF_Addresses_With_Units_Raw')"
   ]
  },
  {
   "cell_type": "markdown",
   "metadata": {},
   "source": [
    "## Check to see if it worked"
   ]
  },
  {
   "cell_type": "code",
   "execution_count": 22,
   "metadata": {},
   "outputs": [
    {
     "ename": "StatementError",
     "evalue": "(builtins.AttributeError) 'NoneType' object has no attribute 'cursor'\n[SQL: \nSELECt schema_name(t.schema_id) as schema_name,\n       t.name as table_name,\n       t.create_date,\n       t.modify_date\nFROM sys.tables t\nORDER BY schema_name,\n         table_name;\n]",
     "output_type": "error",
     "traceback": [
      "\u001b[0;31m---------------------------------------------------------------------------\u001b[0m",
      "\u001b[0;31mAttributeError\u001b[0m                            Traceback (most recent call last)",
      "\u001b[0;32m~/opt/anaconda3/lib/python3.8/site-packages/sqlalchemy/engine/base.py\u001b[0m in \u001b[0;36m_execute_context\u001b[0;34m(self, dialect, constructor, statement, parameters, *args)\u001b[0m\n\u001b[1;32m   1203\u001b[0m \u001b[0;34m\u001b[0m\u001b[0m\n\u001b[0;32m-> 1204\u001b[0;31m             \u001b[0mcontext\u001b[0m \u001b[0;34m=\u001b[0m \u001b[0mconstructor\u001b[0m\u001b[0;34m(\u001b[0m\u001b[0mdialect\u001b[0m\u001b[0;34m,\u001b[0m \u001b[0mself\u001b[0m\u001b[0;34m,\u001b[0m \u001b[0mconn\u001b[0m\u001b[0;34m,\u001b[0m \u001b[0;34m*\u001b[0m\u001b[0margs\u001b[0m\u001b[0;34m)\u001b[0m\u001b[0;34m\u001b[0m\u001b[0;34m\u001b[0m\u001b[0m\n\u001b[0m\u001b[1;32m   1205\u001b[0m         \u001b[0;32mexcept\u001b[0m \u001b[0mBaseException\u001b[0m \u001b[0;32mas\u001b[0m \u001b[0me\u001b[0m\u001b[0;34m:\u001b[0m\u001b[0;34m\u001b[0m\u001b[0;34m\u001b[0m\u001b[0m\n",
      "\u001b[0;32m~/opt/anaconda3/lib/python3.8/site-packages/sqlalchemy/engine/default.py\u001b[0m in \u001b[0;36m_init_statement\u001b[0;34m(cls, dialect, connection, dbapi_connection, statement, parameters)\u001b[0m\n\u001b[1;32m   1028\u001b[0m \u001b[0;34m\u001b[0m\u001b[0m\n\u001b[0;32m-> 1029\u001b[0;31m         \u001b[0mself\u001b[0m\u001b[0;34m.\u001b[0m\u001b[0mcursor\u001b[0m \u001b[0;34m=\u001b[0m \u001b[0mself\u001b[0m\u001b[0;34m.\u001b[0m\u001b[0mcreate_cursor\u001b[0m\u001b[0;34m(\u001b[0m\u001b[0;34m)\u001b[0m\u001b[0;34m\u001b[0m\u001b[0;34m\u001b[0m\u001b[0m\n\u001b[0m\u001b[1;32m   1030\u001b[0m         \u001b[0;32mreturn\u001b[0m \u001b[0mself\u001b[0m\u001b[0;34m\u001b[0m\u001b[0;34m\u001b[0m\u001b[0m\n",
      "\u001b[0;32m~/opt/anaconda3/lib/python3.8/site-packages/sqlalchemy/engine/default.py\u001b[0m in \u001b[0;36mcreate_cursor\u001b[0;34m(self)\u001b[0m\n\u001b[1;32m   1161\u001b[0m             \u001b[0mself\u001b[0m\u001b[0;34m.\u001b[0m\u001b[0m_is_server_side\u001b[0m \u001b[0;34m=\u001b[0m \u001b[0;32mFalse\u001b[0m\u001b[0;34m\u001b[0m\u001b[0;34m\u001b[0m\u001b[0m\n\u001b[0;32m-> 1162\u001b[0;31m             \u001b[0;32mreturn\u001b[0m \u001b[0mself\u001b[0m\u001b[0;34m.\u001b[0m\u001b[0m_dbapi_connection\u001b[0m\u001b[0;34m.\u001b[0m\u001b[0mcursor\u001b[0m\u001b[0;34m(\u001b[0m\u001b[0;34m)\u001b[0m\u001b[0;34m\u001b[0m\u001b[0;34m\u001b[0m\u001b[0m\n\u001b[0m\u001b[1;32m   1163\u001b[0m \u001b[0;34m\u001b[0m\u001b[0m\n",
      "\u001b[0;32m~/opt/anaconda3/lib/python3.8/site-packages/sqlalchemy/pool/base.py\u001b[0m in \u001b[0;36mcursor\u001b[0;34m(self, *args, **kwargs)\u001b[0m\n\u001b[1;32m    999\u001b[0m         \"\"\"\n\u001b[0;32m-> 1000\u001b[0;31m         \u001b[0;32mreturn\u001b[0m \u001b[0mself\u001b[0m\u001b[0;34m.\u001b[0m\u001b[0mconnection\u001b[0m\u001b[0;34m.\u001b[0m\u001b[0mcursor\u001b[0m\u001b[0;34m(\u001b[0m\u001b[0;34m*\u001b[0m\u001b[0margs\u001b[0m\u001b[0;34m,\u001b[0m \u001b[0;34m**\u001b[0m\u001b[0mkwargs\u001b[0m\u001b[0;34m)\u001b[0m\u001b[0;34m\u001b[0m\u001b[0;34m\u001b[0m\u001b[0m\n\u001b[0m\u001b[1;32m   1001\u001b[0m \u001b[0;34m\u001b[0m\u001b[0m\n",
      "\u001b[0;31mAttributeError\u001b[0m: 'NoneType' object has no attribute 'cursor'",
      "\nThe above exception was the direct cause of the following exception:\n",
      "\u001b[0;31mStatementError\u001b[0m                            Traceback (most recent call last)",
      "\u001b[0;32m/var/folders/mc/jwjlxbrd1r7cyt0248jmvr_wjk7k6g/T/ipykernel_70092/2037931476.py\u001b[0m in \u001b[0;36m<module>\u001b[0;34m\u001b[0m\n\u001b[0;32m----> 1\u001b[0;31m \u001b[0mtables\u001b[0m \u001b[0;34m=\u001b[0m \u001b[0mpd\u001b[0m\u001b[0;34m.\u001b[0m\u001b[0mread_sql_query\u001b[0m\u001b[0;34m(\u001b[0m\u001b[0mcheck_tables_query\u001b[0m\u001b[0;34m,\u001b[0m \u001b[0mconnection\u001b[0m\u001b[0;34m)\u001b[0m\u001b[0;34m\u001b[0m\u001b[0;34m\u001b[0m\u001b[0m\n\u001b[0m\u001b[1;32m      2\u001b[0m \u001b[0mtables\u001b[0m\u001b[0;34m\u001b[0m\u001b[0;34m\u001b[0m\u001b[0m\n",
      "\u001b[0;32m~/opt/anaconda3/lib/python3.8/site-packages/pandas/io/sql.py\u001b[0m in \u001b[0;36mread_sql_query\u001b[0;34m(sql, con, index_col, coerce_float, params, parse_dates, chunksize)\u001b[0m\n\u001b[1;32m    375\u001b[0m     \"\"\"\n\u001b[1;32m    376\u001b[0m     \u001b[0mpandas_sql\u001b[0m \u001b[0;34m=\u001b[0m \u001b[0mpandasSQL_builder\u001b[0m\u001b[0;34m(\u001b[0m\u001b[0mcon\u001b[0m\u001b[0;34m)\u001b[0m\u001b[0;34m\u001b[0m\u001b[0;34m\u001b[0m\u001b[0m\n\u001b[0;32m--> 377\u001b[0;31m     return pandas_sql.read_query(\n\u001b[0m\u001b[1;32m    378\u001b[0m         \u001b[0msql\u001b[0m\u001b[0;34m,\u001b[0m\u001b[0;34m\u001b[0m\u001b[0;34m\u001b[0m\u001b[0m\n\u001b[1;32m    379\u001b[0m         \u001b[0mindex_col\u001b[0m\u001b[0;34m=\u001b[0m\u001b[0mindex_col\u001b[0m\u001b[0;34m,\u001b[0m\u001b[0;34m\u001b[0m\u001b[0;34m\u001b[0m\u001b[0m\n",
      "\u001b[0;32m~/opt/anaconda3/lib/python3.8/site-packages/pandas/io/sql.py\u001b[0m in \u001b[0;36mread_query\u001b[0;34m(self, sql, index_col, coerce_float, parse_dates, params, chunksize)\u001b[0m\n\u001b[1;32m   1293\u001b[0m         \u001b[0margs\u001b[0m \u001b[0;34m=\u001b[0m \u001b[0m_convert_params\u001b[0m\u001b[0;34m(\u001b[0m\u001b[0msql\u001b[0m\u001b[0;34m,\u001b[0m \u001b[0mparams\u001b[0m\u001b[0;34m)\u001b[0m\u001b[0;34m\u001b[0m\u001b[0;34m\u001b[0m\u001b[0m\n\u001b[1;32m   1294\u001b[0m \u001b[0;34m\u001b[0m\u001b[0m\n\u001b[0;32m-> 1295\u001b[0;31m         \u001b[0mresult\u001b[0m \u001b[0;34m=\u001b[0m \u001b[0mself\u001b[0m\u001b[0;34m.\u001b[0m\u001b[0mexecute\u001b[0m\u001b[0;34m(\u001b[0m\u001b[0;34m*\u001b[0m\u001b[0margs\u001b[0m\u001b[0;34m)\u001b[0m\u001b[0;34m\u001b[0m\u001b[0;34m\u001b[0m\u001b[0m\n\u001b[0m\u001b[1;32m   1296\u001b[0m         \u001b[0mcolumns\u001b[0m \u001b[0;34m=\u001b[0m \u001b[0mresult\u001b[0m\u001b[0;34m.\u001b[0m\u001b[0mkeys\u001b[0m\u001b[0;34m(\u001b[0m\u001b[0;34m)\u001b[0m\u001b[0;34m\u001b[0m\u001b[0;34m\u001b[0m\u001b[0m\n\u001b[1;32m   1297\u001b[0m \u001b[0;34m\u001b[0m\u001b[0m\n",
      "\u001b[0;32m~/opt/anaconda3/lib/python3.8/site-packages/pandas/io/sql.py\u001b[0m in \u001b[0;36mexecute\u001b[0;34m(self, *args, **kwargs)\u001b[0m\n\u001b[1;32m   1159\u001b[0m     \u001b[0;32mdef\u001b[0m \u001b[0mexecute\u001b[0m\u001b[0;34m(\u001b[0m\u001b[0mself\u001b[0m\u001b[0;34m,\u001b[0m \u001b[0;34m*\u001b[0m\u001b[0margs\u001b[0m\u001b[0;34m,\u001b[0m \u001b[0;34m**\u001b[0m\u001b[0mkwargs\u001b[0m\u001b[0;34m)\u001b[0m\u001b[0;34m:\u001b[0m\u001b[0;34m\u001b[0m\u001b[0;34m\u001b[0m\u001b[0m\n\u001b[1;32m   1160\u001b[0m         \u001b[0;34m\"\"\"Simple passthrough to SQLAlchemy connectable\"\"\"\u001b[0m\u001b[0;34m\u001b[0m\u001b[0;34m\u001b[0m\u001b[0m\n\u001b[0;32m-> 1161\u001b[0;31m         return self.connectable.execution_options(no_parameters=True).execute(\n\u001b[0m\u001b[1;32m   1162\u001b[0m             \u001b[0;34m*\u001b[0m\u001b[0margs\u001b[0m\u001b[0;34m,\u001b[0m \u001b[0;34m**\u001b[0m\u001b[0mkwargs\u001b[0m\u001b[0;34m\u001b[0m\u001b[0;34m\u001b[0m\u001b[0m\n\u001b[1;32m   1163\u001b[0m         )\n",
      "\u001b[0;32m~/opt/anaconda3/lib/python3.8/site-packages/sqlalchemy/engine/base.py\u001b[0m in \u001b[0;36mexecute\u001b[0;34m(self, object_, *multiparams, **params)\u001b[0m\n\u001b[1;32m   1001\u001b[0m         \"\"\"\n\u001b[1;32m   1002\u001b[0m         \u001b[0;32mif\u001b[0m \u001b[0misinstance\u001b[0m\u001b[0;34m(\u001b[0m\u001b[0mobject_\u001b[0m\u001b[0;34m,\u001b[0m \u001b[0mutil\u001b[0m\u001b[0;34m.\u001b[0m\u001b[0mstring_types\u001b[0m\u001b[0;34m[\u001b[0m\u001b[0;36m0\u001b[0m\u001b[0;34m]\u001b[0m\u001b[0;34m)\u001b[0m\u001b[0;34m:\u001b[0m\u001b[0;34m\u001b[0m\u001b[0;34m\u001b[0m\u001b[0m\n\u001b[0;32m-> 1003\u001b[0;31m             \u001b[0;32mreturn\u001b[0m \u001b[0mself\u001b[0m\u001b[0;34m.\u001b[0m\u001b[0m_execute_text\u001b[0m\u001b[0;34m(\u001b[0m\u001b[0mobject_\u001b[0m\u001b[0;34m,\u001b[0m \u001b[0mmultiparams\u001b[0m\u001b[0;34m,\u001b[0m \u001b[0mparams\u001b[0m\u001b[0;34m)\u001b[0m\u001b[0;34m\u001b[0m\u001b[0;34m\u001b[0m\u001b[0m\n\u001b[0m\u001b[1;32m   1004\u001b[0m         \u001b[0;32mtry\u001b[0m\u001b[0;34m:\u001b[0m\u001b[0;34m\u001b[0m\u001b[0;34m\u001b[0m\u001b[0m\n\u001b[1;32m   1005\u001b[0m             \u001b[0mmeth\u001b[0m \u001b[0;34m=\u001b[0m \u001b[0mobject_\u001b[0m\u001b[0;34m.\u001b[0m\u001b[0m_execute_on_connection\u001b[0m\u001b[0;34m\u001b[0m\u001b[0;34m\u001b[0m\u001b[0m\n",
      "\u001b[0;32m~/opt/anaconda3/lib/python3.8/site-packages/sqlalchemy/engine/base.py\u001b[0m in \u001b[0;36m_execute_text\u001b[0;34m(self, statement, multiparams, params)\u001b[0m\n\u001b[1;32m   1170\u001b[0m         \u001b[0mdialect\u001b[0m \u001b[0;34m=\u001b[0m \u001b[0mself\u001b[0m\u001b[0;34m.\u001b[0m\u001b[0mdialect\u001b[0m\u001b[0;34m\u001b[0m\u001b[0;34m\u001b[0m\u001b[0m\n\u001b[1;32m   1171\u001b[0m         \u001b[0mparameters\u001b[0m \u001b[0;34m=\u001b[0m \u001b[0m_distill_params\u001b[0m\u001b[0;34m(\u001b[0m\u001b[0mmultiparams\u001b[0m\u001b[0;34m,\u001b[0m \u001b[0mparams\u001b[0m\u001b[0;34m)\u001b[0m\u001b[0;34m\u001b[0m\u001b[0;34m\u001b[0m\u001b[0m\n\u001b[0;32m-> 1172\u001b[0;31m         ret = self._execute_context(\n\u001b[0m\u001b[1;32m   1173\u001b[0m             \u001b[0mdialect\u001b[0m\u001b[0;34m,\u001b[0m\u001b[0;34m\u001b[0m\u001b[0;34m\u001b[0m\u001b[0m\n\u001b[1;32m   1174\u001b[0m             \u001b[0mdialect\u001b[0m\u001b[0;34m.\u001b[0m\u001b[0mexecution_ctx_cls\u001b[0m\u001b[0;34m.\u001b[0m\u001b[0m_init_statement\u001b[0m\u001b[0;34m,\u001b[0m\u001b[0;34m\u001b[0m\u001b[0;34m\u001b[0m\u001b[0m\n",
      "\u001b[0;32m~/opt/anaconda3/lib/python3.8/site-packages/sqlalchemy/engine/base.py\u001b[0m in \u001b[0;36m_execute_context\u001b[0;34m(self, dialect, constructor, statement, parameters, *args)\u001b[0m\n\u001b[1;32m   1204\u001b[0m             \u001b[0mcontext\u001b[0m \u001b[0;34m=\u001b[0m \u001b[0mconstructor\u001b[0m\u001b[0;34m(\u001b[0m\u001b[0mdialect\u001b[0m\u001b[0;34m,\u001b[0m \u001b[0mself\u001b[0m\u001b[0;34m,\u001b[0m \u001b[0mconn\u001b[0m\u001b[0;34m,\u001b[0m \u001b[0;34m*\u001b[0m\u001b[0margs\u001b[0m\u001b[0;34m)\u001b[0m\u001b[0;34m\u001b[0m\u001b[0;34m\u001b[0m\u001b[0m\n\u001b[1;32m   1205\u001b[0m         \u001b[0;32mexcept\u001b[0m \u001b[0mBaseException\u001b[0m \u001b[0;32mas\u001b[0m \u001b[0me\u001b[0m\u001b[0;34m:\u001b[0m\u001b[0;34m\u001b[0m\u001b[0;34m\u001b[0m\u001b[0m\n\u001b[0;32m-> 1206\u001b[0;31m             self._handle_dbapi_exception(\n\u001b[0m\u001b[1;32m   1207\u001b[0m                 \u001b[0me\u001b[0m\u001b[0;34m,\u001b[0m \u001b[0mutil\u001b[0m\u001b[0;34m.\u001b[0m\u001b[0mtext_type\u001b[0m\u001b[0;34m(\u001b[0m\u001b[0mstatement\u001b[0m\u001b[0;34m)\u001b[0m\u001b[0;34m,\u001b[0m \u001b[0mparameters\u001b[0m\u001b[0;34m,\u001b[0m \u001b[0;32mNone\u001b[0m\u001b[0;34m,\u001b[0m \u001b[0;32mNone\u001b[0m\u001b[0;34m\u001b[0m\u001b[0;34m\u001b[0m\u001b[0m\n\u001b[1;32m   1208\u001b[0m             )\n",
      "\u001b[0;32m~/opt/anaconda3/lib/python3.8/site-packages/sqlalchemy/engine/base.py\u001b[0m in \u001b[0;36m_handle_dbapi_exception\u001b[0;34m(self, e, statement, parameters, cursor, context)\u001b[0m\n\u001b[1;32m   1508\u001b[0m                 \u001b[0mutil\u001b[0m\u001b[0;34m.\u001b[0m\u001b[0mraise_\u001b[0m\u001b[0;34m(\u001b[0m\u001b[0mnewraise\u001b[0m\u001b[0;34m,\u001b[0m \u001b[0mwith_traceback\u001b[0m\u001b[0;34m=\u001b[0m\u001b[0mexc_info\u001b[0m\u001b[0;34m[\u001b[0m\u001b[0;36m2\u001b[0m\u001b[0;34m]\u001b[0m\u001b[0;34m,\u001b[0m \u001b[0mfrom_\u001b[0m\u001b[0;34m=\u001b[0m\u001b[0me\u001b[0m\u001b[0;34m)\u001b[0m\u001b[0;34m\u001b[0m\u001b[0;34m\u001b[0m\u001b[0m\n\u001b[1;32m   1509\u001b[0m             \u001b[0;32melif\u001b[0m \u001b[0mshould_wrap\u001b[0m\u001b[0;34m:\u001b[0m\u001b[0;34m\u001b[0m\u001b[0;34m\u001b[0m\u001b[0m\n\u001b[0;32m-> 1510\u001b[0;31m                 util.raise_(\n\u001b[0m\u001b[1;32m   1511\u001b[0m                     \u001b[0msqlalchemy_exception\u001b[0m\u001b[0;34m,\u001b[0m \u001b[0mwith_traceback\u001b[0m\u001b[0;34m=\u001b[0m\u001b[0mexc_info\u001b[0m\u001b[0;34m[\u001b[0m\u001b[0;36m2\u001b[0m\u001b[0;34m]\u001b[0m\u001b[0;34m,\u001b[0m \u001b[0mfrom_\u001b[0m\u001b[0;34m=\u001b[0m\u001b[0me\u001b[0m\u001b[0;34m\u001b[0m\u001b[0;34m\u001b[0m\u001b[0m\n\u001b[1;32m   1512\u001b[0m                 )\n",
      "\u001b[0;32m~/opt/anaconda3/lib/python3.8/site-packages/sqlalchemy/util/compat.py\u001b[0m in \u001b[0;36mraise_\u001b[0;34m(***failed resolving arguments***)\u001b[0m\n\u001b[1;32m    180\u001b[0m \u001b[0;34m\u001b[0m\u001b[0m\n\u001b[1;32m    181\u001b[0m         \u001b[0;32mtry\u001b[0m\u001b[0;34m:\u001b[0m\u001b[0;34m\u001b[0m\u001b[0;34m\u001b[0m\u001b[0m\n\u001b[0;32m--> 182\u001b[0;31m             \u001b[0;32mraise\u001b[0m \u001b[0mexception\u001b[0m\u001b[0;34m\u001b[0m\u001b[0;34m\u001b[0m\u001b[0m\n\u001b[0m\u001b[1;32m    183\u001b[0m         \u001b[0;32mfinally\u001b[0m\u001b[0;34m:\u001b[0m\u001b[0;34m\u001b[0m\u001b[0;34m\u001b[0m\u001b[0m\n\u001b[1;32m    184\u001b[0m             \u001b[0;31m# credit to\u001b[0m\u001b[0;34m\u001b[0m\u001b[0;34m\u001b[0m\u001b[0;34m\u001b[0m\u001b[0m\n",
      "\u001b[0;32m~/opt/anaconda3/lib/python3.8/site-packages/sqlalchemy/engine/base.py\u001b[0m in \u001b[0;36m_execute_context\u001b[0;34m(self, dialect, constructor, statement, parameters, *args)\u001b[0m\n\u001b[1;32m   1202\u001b[0m                 \u001b[0mconn\u001b[0m \u001b[0;34m=\u001b[0m \u001b[0mself\u001b[0m\u001b[0;34m.\u001b[0m\u001b[0m_revalidate_connection\u001b[0m\u001b[0;34m(\u001b[0m\u001b[0;34m)\u001b[0m\u001b[0;34m\u001b[0m\u001b[0;34m\u001b[0m\u001b[0m\n\u001b[1;32m   1203\u001b[0m \u001b[0;34m\u001b[0m\u001b[0m\n\u001b[0;32m-> 1204\u001b[0;31m             \u001b[0mcontext\u001b[0m \u001b[0;34m=\u001b[0m \u001b[0mconstructor\u001b[0m\u001b[0;34m(\u001b[0m\u001b[0mdialect\u001b[0m\u001b[0;34m,\u001b[0m \u001b[0mself\u001b[0m\u001b[0;34m,\u001b[0m \u001b[0mconn\u001b[0m\u001b[0;34m,\u001b[0m \u001b[0;34m*\u001b[0m\u001b[0margs\u001b[0m\u001b[0;34m)\u001b[0m\u001b[0;34m\u001b[0m\u001b[0;34m\u001b[0m\u001b[0m\n\u001b[0m\u001b[1;32m   1205\u001b[0m         \u001b[0;32mexcept\u001b[0m \u001b[0mBaseException\u001b[0m \u001b[0;32mas\u001b[0m \u001b[0me\u001b[0m\u001b[0;34m:\u001b[0m\u001b[0;34m\u001b[0m\u001b[0;34m\u001b[0m\u001b[0m\n\u001b[1;32m   1206\u001b[0m             self._handle_dbapi_exception(\n",
      "\u001b[0;32m~/opt/anaconda3/lib/python3.8/site-packages/sqlalchemy/engine/default.py\u001b[0m in \u001b[0;36m_init_statement\u001b[0;34m(cls, dialect, connection, dbapi_connection, statement, parameters)\u001b[0m\n\u001b[1;32m   1027\u001b[0m             \u001b[0mself\u001b[0m\u001b[0;34m.\u001b[0m\u001b[0mstatement\u001b[0m \u001b[0;34m=\u001b[0m \u001b[0mself\u001b[0m\u001b[0;34m.\u001b[0m\u001b[0municode_statement\u001b[0m \u001b[0;34m=\u001b[0m \u001b[0mstatement\u001b[0m\u001b[0;34m\u001b[0m\u001b[0;34m\u001b[0m\u001b[0m\n\u001b[1;32m   1028\u001b[0m \u001b[0;34m\u001b[0m\u001b[0m\n\u001b[0;32m-> 1029\u001b[0;31m         \u001b[0mself\u001b[0m\u001b[0;34m.\u001b[0m\u001b[0mcursor\u001b[0m \u001b[0;34m=\u001b[0m \u001b[0mself\u001b[0m\u001b[0;34m.\u001b[0m\u001b[0mcreate_cursor\u001b[0m\u001b[0;34m(\u001b[0m\u001b[0;34m)\u001b[0m\u001b[0;34m\u001b[0m\u001b[0;34m\u001b[0m\u001b[0m\n\u001b[0m\u001b[1;32m   1030\u001b[0m         \u001b[0;32mreturn\u001b[0m \u001b[0mself\u001b[0m\u001b[0;34m\u001b[0m\u001b[0;34m\u001b[0m\u001b[0m\n\u001b[1;32m   1031\u001b[0m \u001b[0;34m\u001b[0m\u001b[0m\n",
      "\u001b[0;32m~/opt/anaconda3/lib/python3.8/site-packages/sqlalchemy/engine/default.py\u001b[0m in \u001b[0;36mcreate_cursor\u001b[0;34m(self)\u001b[0m\n\u001b[1;32m   1160\u001b[0m         \u001b[0;32melse\u001b[0m\u001b[0;34m:\u001b[0m\u001b[0;34m\u001b[0m\u001b[0;34m\u001b[0m\u001b[0m\n\u001b[1;32m   1161\u001b[0m             \u001b[0mself\u001b[0m\u001b[0;34m.\u001b[0m\u001b[0m_is_server_side\u001b[0m \u001b[0;34m=\u001b[0m \u001b[0;32mFalse\u001b[0m\u001b[0;34m\u001b[0m\u001b[0;34m\u001b[0m\u001b[0m\n\u001b[0;32m-> 1162\u001b[0;31m             \u001b[0;32mreturn\u001b[0m \u001b[0mself\u001b[0m\u001b[0;34m.\u001b[0m\u001b[0m_dbapi_connection\u001b[0m\u001b[0;34m.\u001b[0m\u001b[0mcursor\u001b[0m\u001b[0;34m(\u001b[0m\u001b[0;34m)\u001b[0m\u001b[0;34m\u001b[0m\u001b[0;34m\u001b[0m\u001b[0m\n\u001b[0m\u001b[1;32m   1163\u001b[0m \u001b[0;34m\u001b[0m\u001b[0m\n\u001b[1;32m   1164\u001b[0m     \u001b[0;32mdef\u001b[0m \u001b[0mcreate_server_side_cursor\u001b[0m\u001b[0;34m(\u001b[0m\u001b[0mself\u001b[0m\u001b[0;34m)\u001b[0m\u001b[0;34m:\u001b[0m\u001b[0;34m\u001b[0m\u001b[0;34m\u001b[0m\u001b[0m\n",
      "\u001b[0;32m~/opt/anaconda3/lib/python3.8/site-packages/sqlalchemy/pool/base.py\u001b[0m in \u001b[0;36mcursor\u001b[0;34m(self, *args, **kwargs)\u001b[0m\n\u001b[1;32m    998\u001b[0m \u001b[0;34m\u001b[0m\u001b[0m\n\u001b[1;32m    999\u001b[0m         \"\"\"\n\u001b[0;32m-> 1000\u001b[0;31m         \u001b[0;32mreturn\u001b[0m \u001b[0mself\u001b[0m\u001b[0;34m.\u001b[0m\u001b[0mconnection\u001b[0m\u001b[0;34m.\u001b[0m\u001b[0mcursor\u001b[0m\u001b[0;34m(\u001b[0m\u001b[0;34m*\u001b[0m\u001b[0margs\u001b[0m\u001b[0;34m,\u001b[0m \u001b[0;34m**\u001b[0m\u001b[0mkwargs\u001b[0m\u001b[0;34m)\u001b[0m\u001b[0;34m\u001b[0m\u001b[0;34m\u001b[0m\u001b[0m\n\u001b[0m\u001b[1;32m   1001\u001b[0m \u001b[0;34m\u001b[0m\u001b[0m\n\u001b[1;32m   1002\u001b[0m     \u001b[0;32mdef\u001b[0m \u001b[0m__getattr__\u001b[0m\u001b[0;34m(\u001b[0m\u001b[0mself\u001b[0m\u001b[0;34m,\u001b[0m \u001b[0mkey\u001b[0m\u001b[0;34m)\u001b[0m\u001b[0;34m:\u001b[0m\u001b[0;34m\u001b[0m\u001b[0;34m\u001b[0m\u001b[0m\n",
      "\u001b[0;31mStatementError\u001b[0m: (builtins.AttributeError) 'NoneType' object has no attribute 'cursor'\n[SQL: \nSELECt schema_name(t.schema_id) as schema_name,\n       t.name as table_name,\n       t.create_date,\n       t.modify_date\nFROM sys.tables t\nORDER BY schema_name,\n         table_name;\n]"
     ]
    }
   ],
   "source": [
    "tables = pd.read_sql_query(check_tables_query, connection)\n",
    "tables"
   ]
  },
  {
   "cell_type": "markdown",
   "metadata": {},
   "source": [
    "### Get the row count for each table"
   ]
  },
  {
   "cell_type": "code",
   "execution_count": 23,
   "metadata": {},
   "outputs": [],
   "source": [
    "tables = ['Zip_Atlas_Median_Age_Raw', 'Zip_Atlas_Median_Household_Income_Raw', 'Zip_Atlas_Population_Density_Raw', \n",
    "           'SF_Buyout_Agreements_Raw', 'SF_Eviction_Notices_Raw', 'SF_Addresses_With_Units_Raw']\n",
    "\n",
    "def get_row_count(tables_to_check):\n",
    "    '''\n",
    "    Checks the row count of tables passed to the function, and outputs\n",
    "    a dataframe with the tablename and row count\n",
    "    '''\n",
    "    \n",
    "    tables = []\n",
    "    rows = []\n",
    "    \n",
    "    for table in tables_to_check:\n",
    "        get_count_query = \"\"\"\n",
    "            SELECT COUNT(*) count\n",
    "            FROM dbo.{};\n",
    "        \"\"\".format(table)\n",
    "        \n",
    "        engine = sa.create_engine(conn_string, pool_timeout=60)\n",
    "        connection = engine.connect()\n",
    "        results = connection.execute(text(get_count_query))\n",
    "        for row in results:\n",
    "            rows.append(row['count'])\n",
    "        \n",
    "        tables.append(table)\n",
    "        \n",
    "    row_count = {\n",
    "        'Table Name': tables, \n",
    "        'Record Count': rows\n",
    "    }\n",
    "    \n",
    "    df = pd.DataFrame(row_count)\n",
    "    return df\n",
    "\n",
    "row_counts = get_row_count(tables)"
   ]
  },
  {
   "cell_type": "code",
   "execution_count": 24,
   "metadata": {},
   "outputs": [
    {
     "data": {
      "text/html": [
       "<div>\n",
       "<style scoped>\n",
       "    .dataframe tbody tr th:only-of-type {\n",
       "        vertical-align: middle;\n",
       "    }\n",
       "\n",
       "    .dataframe tbody tr th {\n",
       "        vertical-align: top;\n",
       "    }\n",
       "\n",
       "    .dataframe thead th {\n",
       "        text-align: right;\n",
       "    }\n",
       "</style>\n",
       "<table border=\"1\" class=\"dataframe\">\n",
       "  <thead>\n",
       "    <tr style=\"text-align: right;\">\n",
       "      <th></th>\n",
       "      <th>Table Name</th>\n",
       "      <th>Record Count</th>\n",
       "    </tr>\n",
       "  </thead>\n",
       "  <tbody>\n",
       "    <tr>\n",
       "      <th>0</th>\n",
       "      <td>Zip_Atlas_Median_Age_Raw</td>\n",
       "      <td>26</td>\n",
       "    </tr>\n",
       "    <tr>\n",
       "      <th>1</th>\n",
       "      <td>Zip_Atlas_Median_Household_Income_Raw</td>\n",
       "      <td>28</td>\n",
       "    </tr>\n",
       "    <tr>\n",
       "      <th>2</th>\n",
       "      <td>Zip_Atlas_Population_Density_Raw</td>\n",
       "      <td>26</td>\n",
       "    </tr>\n",
       "    <tr>\n",
       "      <th>3</th>\n",
       "      <td>SF_Buyout_Agreements_Raw</td>\n",
       "      <td>5855</td>\n",
       "    </tr>\n",
       "    <tr>\n",
       "      <th>4</th>\n",
       "      <td>SF_Eviction_Notices_Raw</td>\n",
       "      <td>43393</td>\n",
       "    </tr>\n",
       "    <tr>\n",
       "      <th>5</th>\n",
       "      <td>SF_Addresses_With_Units_Raw</td>\n",
       "      <td>386975</td>\n",
       "    </tr>\n",
       "  </tbody>\n",
       "</table>\n",
       "</div>"
      ],
      "text/plain": [
       "                              Table Name  Record Count\n",
       "0               Zip_Atlas_Median_Age_Raw            26\n",
       "1  Zip_Atlas_Median_Household_Income_Raw            28\n",
       "2       Zip_Atlas_Population_Density_Raw            26\n",
       "3               SF_Buyout_Agreements_Raw          5855\n",
       "4                SF_Eviction_Notices_Raw         43393\n",
       "5            SF_Addresses_With_Units_Raw        386975"
      ]
     },
     "execution_count": 24,
     "metadata": {},
     "output_type": "execute_result"
    }
   ],
   "source": [
    "row_counts"
   ]
  },
  {
   "cell_type": "markdown",
   "metadata": {},
   "source": [
    "## Drop the tables, if necessary"
   ]
  },
  {
   "cell_type": "code",
   "execution_count": 21,
   "metadata": {},
   "outputs": [
    {
     "data": {
      "text/plain": [
       "<sqlalchemy.engine.result.ResultProxy at 0x7fa37f315f70>"
      ]
     },
     "execution_count": 21,
     "metadata": {},
     "output_type": "execute_result"
    }
   ],
   "source": [
    "## Drop the table\n",
    "#engine = sa.create_engine(conn_string, pool_timeout=60)\n",
    "\n",
    "#engine.execute(\"DROP TABLE dbo.SF_Buyout_Agreements_Raw;\")\n",
    "#engine.execute(\"DROP TABLE dbo.SF_Addresses_With_Units_Raw;\")\n",
    "#engine.execute(\"DROP TABLE dbo.SF_Eviction_Notices_Raw;\")\n",
    "#engine.execute(\"DROP TABLE dbo.Zip_Atlas_Median_Age;\")\n",
    "#engine.execute(\"DROP TABLE dbo.Zip_Atlas_Median_Household_Income;\")\n",
    "#engine.execute(\"DROP TABLE dbo.Zip_Atlas_Population_Density;\")"
   ]
  },
  {
   "cell_type": "code",
   "execution_count": null,
   "metadata": {},
   "outputs": [],
   "source": []
  }
 ],
 "metadata": {
  "kernelspec": {
   "display_name": "Python 3 (ipykernel)",
   "language": "python",
   "name": "python3"
  },
  "language_info": {
   "codemirror_mode": {
    "name": "ipython",
    "version": 3
   },
   "file_extension": ".py",
   "mimetype": "text/x-python",
   "name": "python",
   "nbconvert_exporter": "python",
   "pygments_lexer": "ipython3",
   "version": "3.8.5"
  }
 },
 "nbformat": 4,
 "nbformat_minor": 4
}
